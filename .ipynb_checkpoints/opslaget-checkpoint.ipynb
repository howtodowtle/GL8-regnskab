{
 "cells": [
  {
   "cell_type": "markdown",
   "metadata": {},
   "source": [
    "# Create a facebook posting for the current kitchen balances"
   ]
  },
  {
   "cell_type": "markdown",
   "metadata": {
    "collapsed": true
   },
   "source": [
    "Define the methods that create a facebook posting in English or Danish."
   ]
  },
  {
   "cell_type": "code",
   "execution_count": 1,
   "metadata": {
    "collapsed": true
   },
   "outputs": [],
   "source": [
    "def createOpslagetEN(monthEN, year, dates):\n",
    "    # creates a facebook post\n",
    "    # in ENglish\n",
    "    posting = (\"GANGREGNSKAB %s %s (%s)\\n\\n\"    \n",
    "    \"Hej venner!\\n\\n\"\n",
    "    \"The new kitchen balances are up in the Facebook group!\\n\\n\"\n",
    "    \"Check your new saldo in the green column. If the saldo \"\n",
    "    \"is below +300 kr., you are supposed to transfer money \"\n",
    "    \"to the kitchen account (information see below). How much \"\n",
    "    \"you are supposed to transfer can be seen in the column right next to \"\n",
    "    \"the green column.\\n\\n\"\n",
    "    \"There is also a summary of your consumption in the last month that \"\n",
    "    \"can be seen in the second picture. Your monthly consumption is \"\n",
    "    \"composed of a possible penalty tax (if your saldo is negative and \"\n",
    "    \"you haven't settled it), your beer bill (from the common fridge), your \"\n",
    "    \"foodclub saldo (both what you ate for and what you spent cooking), \"\n",
    "    \"25 kr. kitchen tax, your share of our common purchases. Plus/minus \"\n",
    "    \"400 kr. deposit when moving in/out.\\n\\n\"\n",
    "    \"Mit freundlichen Grüßen\\n\"\n",
    "    \"/801.\\n\\n\"\n",
    "    \"Our kitchen account: Reg. 2104 Kto. 4391 845 196 (can also be found \"\n",
    "    \"in the facebook group info).\" \n",
    "    % (monthEN, year, dates))\n",
    "\n",
    "    return(print(posting))\n",
    "\n",
    "def createOpslagetDK(monthDK, year, dates):\n",
    "    # creates a facebook post\n",
    "    # in DK (Danish)\n",
    "    opslag = (\"GANGREGNSKAB %s %s (%s)\\n\\n\"\n",
    "    \"Hej venner,\\n\\n\"\n",
    "    \"det nye gangregnskab er oppe!\\n\\n\"\n",
    "    \"Tjek jeres ny saldo i den grøn kolonne. Hvis saldoen er under 300 kr. \"\n",
    "    \"så skal i overføre til gangkontoen i løbet af to uger (ellers ryger der \"\n",
    "    \"5 procent strafrente). Beløbet i skal overføre står i kolonnen \"\n",
    "    \"helt til højre.\\n\\n\"\n",
    "    \"Mit freundlichen Grüßen\\n\"\n",
    "    \"/801.\\n\\n\"\n",
    "    \"Vores gangkonto: Reg. 2104 Kto. 4391 845 196 (kan også findes i \"\n",
    "    \"informationen af facebook gruppen).\"\n",
    "    % (monthDK, year, dates))\n",
    "\n",
    "    return(print(opslag))    \n",
    "    "
   ]
  },
  {
   "cell_type": "markdown",
   "metadata": {},
   "source": [
    "Set current month (in English/Danish) and the dates of the current balance."
   ]
  },
  {
   "cell_type": "code",
   "execution_count": 2,
   "metadata": {
    "collapsed": true
   },
   "outputs": [],
   "source": [
    "# month format: \"JUNE\"\n",
    "monthEN = \"JULY\"\n",
    "monthDK = \"JULI\"\n",
    "\n",
    "year = 2017\n",
    "\n",
    "# dates format: \"2/7/2017-2/8/2017\"\n",
    "dates = \"2/7/2017-2/8/2017\""
   ]
  },
  {
   "cell_type": "markdown",
   "metadata": {},
   "source": [
    "Create FB Posting(s):"
   ]
  },
  {
   "cell_type": "code",
   "execution_count": 4,
   "metadata": {
    "collapsed": false
   },
   "outputs": [
    {
     "name": "stdout",
     "output_type": "stream",
     "text": [
      "GANGREGNSKAB JULY 2017 (2/7/2017-2/8/2017)\n",
      "\n",
      "Hej venner!\n",
      "\n",
      "The new kitchen balances are up in the Facebook group!\n",
      "\n",
      "Check your new saldo in the green column. If the saldo is below +300 kr., you are supposed to transfer money to the kitchen account (information see below). How much you are supposed to transfer can be seen in the column right next to the green column.\n",
      "\n",
      "There is also a summary of your consumption in the last month that can be seen in the second picture. Your monthly consumption is composed of a possible penalty tax (if your saldo is negative and you haven't settled it), your beer bill (from the common fridge), your foodclub saldo (both what you ate for and what you spent cooking), 25 kr. kitchen tax, your share of our common purchases. Plus/minus 400 kr. deposit when moving in/out.\n",
      "\n",
      "Mit freundlichen Grüßen\n",
      "/801.\n",
      "\n",
      "Our kitchen account: Reg. 2104 Kto. 4391 845 196 (can also be found in the facebook group info).\n"
     ]
    }
   ],
   "source": [
    "#createOpslagetEN(monthEN, year, dates)"
   ]
  },
  {
   "cell_type": "code",
   "execution_count": 5,
   "metadata": {
    "collapsed": false
   },
   "outputs": [
    {
     "name": "stdout",
     "output_type": "stream",
     "text": [
      "GANGREGNSKAB JULI 2017 (2/7/2017-2/8/2017)\n",
      "\n",
      "Hej venner,\n",
      "\n",
      "det nye gangregnskab er oppe!\n",
      "\n",
      "Tjek jeres ny saldo i den grøn kolonne. Hvis saldoen er under 300 kr. så skal i overføre til gangkontoen i løbet af to uger (ellers ryger der 5 procent strafrente). Beløbet i skal overføre står i kolonnen helt til højre.\n",
      "\n",
      "Mit freundlichen Grüßen\n",
      "/801.\n",
      "\n",
      "Vores gangkonto: Reg. 2104 Kto. 4391 845 196 (kan også findes i informationen af facebook gruppen).\n"
     ]
    }
   ],
   "source": [
    "createOpslagetDK(monthDK, year, dates)"
   ]
  }
 ],
 "metadata": {
  "kernelspec": {
   "display_name": "Python 3",
   "language": "python",
   "name": "python3"
  },
  "language_info": {
   "codemirror_mode": {
    "name": "ipython",
    "version": 3
   },
   "file_extension": ".py",
   "mimetype": "text/x-python",
   "name": "python",
   "nbconvert_exporter": "python",
   "pygments_lexer": "ipython3",
   "version": "3.5.2"
  }
 },
 "nbformat": 4,
 "nbformat_minor": 1
}
