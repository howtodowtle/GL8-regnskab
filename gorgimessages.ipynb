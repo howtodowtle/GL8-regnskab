{
 "cells": [
  {
   "cell_type": "markdown",
   "metadata": {},
   "source": [
    "Import custom reader to get the relevant worksheet:"
   ]
  },
  {
   "cell_type": "code",
   "execution_count": 1,
   "metadata": {
    "collapsed": true
   },
   "outputs": [],
   "source": [
    "import gorgireader"
   ]
  },
  {
   "cell_type": "markdown",
   "metadata": {},
   "source": [
    "Method to create a single message, depending on the user's data:"
   ]
  },
  {
   "cell_type": "code",
   "execution_count": 3,
   "metadata": {
    "collapsed": true
   },
   "outputs": [],
   "source": [
    "def createMessage(name, month, year, dates, saldo, \n",
    "                  transfer, deadline):\n",
    "    # creates a single message\n",
    "    if round(saldo) < 0:\n",
    "        message = (\"Hej %s,\\n\\nregnskabet for %s %s (%s) er oppe i facebook \"\n",
    "                   \"gruppen.\\n\\nDin ny saldo er %d kr.\\n\\nDa alle skal være \"\n",
    "                   \"mindst 300 kr. i plus bedes du overføre %d kr. til \"\n",
    "                   \"gangkontoen inden d. %s.\\n\\nSkriv til mig hvis jeg har \"\n",
    "                   \"glemt et eller andet, og hvis du har spørgsmål!\\n\\nKh \"\n",
    "                   \"/801 Alex\\n\\nGangkonto: Reg. 2104 Kto. 4391 845 196\"\n",
    "                   % (name, month, year, dates, saldo, transfer, deadline))\n",
    "    elif round(saldo) < 300:\n",
    "        message = (\"Hej %s,\\n\\nregnskabet for %s %s \"\n",
    "                   \"(%s) er oppe i facebook gruppen.\\n\\nDin \"\n",
    "                   \"ny saldo er +%d kr.\\n\\nDa alle skal være mindst 300 kr. \"\n",
    "                   \"i plus bedes du overføre %d kr. til gangkontoen inden d. \"\n",
    "                   \"%s.\\n\\nSkriv til mig hvis jeg har glemt et eller andet, \"\n",
    "                   \"eller hvis du har spørgsmål!\\n\\nKh /801 Alex\\n\\n\"\n",
    "                   \"Gangkonto: Reg. 2104 Kto. 4391 845 196\"\n",
    "                   % (name, month, year, dates, saldo, transfer, deadline))\n",
    "    else:\n",
    "        message = (\"Hej %s,\\n\\nregnskabet for %s %s \"\n",
    "                   \"(%s) er oppe i facebook gruppen.\\n\\nDin \"\n",
    "                   \"ny saldo er +%d kr.\\n\\nDu kan se detaljerne på de \"\n",
    "                   \"forskellige screenshots i gruppen.\\n\\nSkriv til mig \"\n",
    "                   \"hvis jeg har glemt et eller andet, og hvis du har \"\n",
    "                   \"spørgsmål!\\n\\n/801 Alex\\n\\nGangkonto: Reg. 2104 Kto. \"\n",
    "                   \"4391 845 196\"\n",
    "                   % (name, month, year, dates, saldo))\n",
    "        \n",
    "    return(message)"
   ]
  },
  {
   "cell_type": "markdown",
   "metadata": {},
   "source": [
    "Method to print all (or selected) messages:"
   ]
  },
  {
   "cell_type": "code",
   "execution_count": 4,
   "metadata": {
    "collapsed": true
   },
   "outputs": [],
   "source": [
    "def createAllMessages(df, month, year, dates, deadline, who = range(1, 24)):\n",
    "    # goes through the dataframe and creates 23 messages\n",
    "    # unless specified which exactly\n",
    "    messages = []\n",
    "    for i in who:\n",
    "        beboer = df.ix[i]\n",
    "        msg = createMessage(beboer[\"name\"], month, year, dates,\n",
    "                            beboer[\"ny_saldo\"], beboer[\"transfer\"],\n",
    "                            deadline)\n",
    "        messages.append(msg)\n",
    "        print(msg)\n",
    "        print(\"\\n****\\n\")\n",
    "        return(messages)"
   ]
  }
 ],
 "metadata": {
  "kernelspec": {
   "display_name": "Python 3",
   "language": "python",
   "name": "python3"
  },
  "language_info": {
   "codemirror_mode": {
    "name": "ipython",
    "version": 3
   },
   "file_extension": ".py",
   "mimetype": "text/x-python",
   "name": "python",
   "nbconvert_exporter": "python",
   "pygments_lexer": "ipython3",
   "version": "3.5.2"
  }
 },
 "nbformat": 4,
 "nbformat_minor": 1
}
