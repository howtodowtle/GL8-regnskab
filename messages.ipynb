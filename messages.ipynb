{
 "cells": [
  {
   "cell_type": "markdown",
   "metadata": {},
   "source": [
    "# Aktuelt regnskab"
   ]
  },
  {
   "cell_type": "code",
   "execution_count": null,
   "metadata": {
    "collapsed": true
   },
   "outputs": [],
   "source": [
    "define get_latest_data(path = \"D:\\Dropbox\\Egmont\\Regnskab\\Aktuelt Regnskab\", file_name = \"gangregnskab_egmontgl8\"):\n",
    "    # reads in the latest balance\n",
    "    # needs to return an array with names, (old saldo, inpayments, outpayments,) saldo\n",
    "    # return()"
   ]
  },
  {
   "cell_type": "code",
   "execution_count": null,
   "metadata": {
    "collapsed": true
   },
   "outputs": [],
   "source": [
    "define which_message(row_in_array):\n",
    "    # reads saldo\n",
    "    # decides, which message to choose\n",
    "    # returns an index"
   ]
  },
  {
   "cell_type": "code",
   "execution_count": null,
   "metadata": {
    "collapsed": true
   },
   "outputs": [],
   "source": [
    "define create_minus_message(row_in_array, index, month):\n",
    "    # input param index can be which_message(row_in_array)\n",
    "    # "
   ]
  },
  {
   "cell_type": "code",
   "execution_count": null,
   "metadata": {
    "collapsed": true
   },
   "outputs": [],
   "source": [
    "define create_null_message(row_in_array, index, month):\n",
    "    # input param index can be which_message(row_in_array)\n",
    "    # "
   ]
  },
  {
   "cell_type": "code",
   "execution_count": null,
   "metadata": {
    "collapsed": true
   },
   "outputs": [],
   "source": [
    "define create_plus_message(row_in_array, index, month):\n",
    "    # input param index can be which_message(row_in_array)\n",
    "    # "
   ]
  },
  {
   "cell_type": "code",
   "execution_count": null,
   "metadata": {
    "collapsed": true
   },
   "outputs": [],
   "source": [
    "define create_x_message(row_in_array, index, month):\n",
    "    # input param index can be which_message(row_in_array)\n",
    "    # xx"
   ]
  }
 ],
 "metadata": {
  "kernelspec": {
   "display_name": "Python 3",
   "language": "python",
   "name": "python3"
  },
  "language_info": {
   "codemirror_mode": {
    "name": "ipython",
    "version": 3
   },
   "file_extension": ".py",
   "mimetype": "text/x-python",
   "name": "python",
   "nbconvert_exporter": "python",
   "pygments_lexer": "ipython3",
   "version": "3.5.2"
  }
 },
 "nbformat": 4,
 "nbformat_minor": 1
}
